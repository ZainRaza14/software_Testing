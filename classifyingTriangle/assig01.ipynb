{
 "cells": [
  {
   "cell_type": "markdown",
   "metadata": {},
   "source": [
    "### Written by Syed Zain Raza"
   ]
  },
  {
   "cell_type": "code",
   "execution_count": 10,
   "metadata": {},
   "outputs": [],
   "source": [
    "def classifyTriangle(a,b,c):\n",
    "    \n",
    "    \"\"\"\n",
    "    \n",
    "    This function returns a string with the type of triangle from three  values\n",
    "    corresponding to the lengths of the three sides of the Triangle.\n",
    "    \n",
    "    return:\n",
    "        If all three sides are equal, return 'Equilateral'\n",
    "        If exactly one pair of sides are equal, return 'Isoceles'\n",
    "        If no pair of  sides are equal, return 'Scalene'\n",
    "        If not a valid triangle, then return 'NotATriangle'\n",
    "        If the sum of any two sides equals the squate of the third side, then return 'Right'\n",
    "        \n",
    "        \n",
    "    \"\"\"\n",
    "    \n",
    "    \n",
    "    # For three sides to be a triangle, the sum of two sides should be less than the third side so we have to ensure that before checking         which type of triangle it is\n",
    "    if (a >= b + c) or (c >= a + b) or (b >= a + c):\n",
    "        return \"It is not a Triangle\"\n",
    "    \n",
    "    # Now checking type of Triangle\n",
    "    if (a**2 + b**2 == c**2) or (b**2 + c**2 == a**2) or (a**2 + c**2 == b**2):\n",
    "        return \"Right Angled Triangle\"\n",
    "    elif (a != b) and (b != c) and (a != c):\n",
    "        return \"Scalene Triangle\"\n",
    "    elif a == b and b == c:\n",
    "        return \"Equilateral Triangle\"\n",
    "    else:\n",
    "        return \"Isoceles Triangle\""
   ]
  },
  {
   "cell_type": "code",
   "execution_count": null,
   "metadata": {},
   "outputs": [],
   "source": []
  },
  {
   "cell_type": "code",
   "execution_count": 24,
   "metadata": {},
   "outputs": [],
   "source": [
    "import unittest\n",
    "\n",
    "class TestTriangles(unittest.TestCase):\n",
    "    # define multiple sets of tests as functions with names that begin\n",
    "    def test_equilateralTriangle_1(self):\n",
    "        self.assertEqual(classifyTriangle(10, 10, 10), \"Equilateral Triangle\")\n",
    "        \n",
    "    def test_equilateralTriangle_2(self):\n",
    "        self.assertEqual(classifyTriangle(11, 11, 11), \"Equilateral Triangle\")\n",
    "        \n",
    "    def test_equilateralTriangle_3(self):\n",
    "        self.assertEqual(classifyTriangle(12, 12, 12), \"Equilateral Triangle\")\n",
    "        \n",
    "    def test_isocelesTriangle_1(self):\n",
    "        self.assertEqual(classifyTriangle(5, 5, 9), \"Isoceles Triangle\")\n",
    "    \n",
    "    def test_isocelesTriangle_2(self):\n",
    "        self.assertEqual(classifyTriangle(4, 4, 7), \"Isoceles Triangle\")\n",
    "        \n",
    "    def test_isocelesTriangle_3(self):\n",
    "        self.assertEqual(classifyTriangle(3, 3, 5), \"Isoceles Triangle\")\n",
    "        \n",
    "    def test_scaleneTriangle_1(self):\n",
    "        self.assertEqual(classifyTriangle(5, 6, 10), \"Scalene Triangle\")\n",
    "        \n",
    "    def test_scaleneTriangle_2(self):\n",
    "        self.assertEqual(classifyTriangle(5, 6, 7), \"Scalene Triangle\")\n",
    "        \n",
    "    def test_scaleneTriangle_3(self):\n",
    "        self.assertEqual(classifyTriangle(7, 8, 9), \"Scalene Triangle\")\n",
    "        \n",
    "    def test_rightAngledTriangle_1(self):\n",
    "        self.assertEqual(classifyTriangle(3, 4, 5), \"Right Angled Triangle\")\n",
    "        \n",
    "    def test_rightAngledTriangle_2(self):\n",
    "        self.assertEqual(classifyTriangle(6, 8, 10), \"Right Angled Triangle\")        \n",
    "        \n",
    "    def test_rightAngledTriangle_3(self):\n",
    "        self.assertEqual(classifyTriangle(5, 12, 13), \"Right Angled Triangle\")\n",
    "        \n",
    "    def test_notTriangle_1(self):\n",
    "        self.assertEqual(classifyTriangle(2, 2, 5), \"It is not a Triangle\")\n",
    "    \n",
    "    def test_notTriangle_2(self):\n",
    "        self.assertEqual(classifyTriangle(3, 3, 7), \"It is not a Triangle\")\n",
    "        \n",
    "    def test_notTriangle_3(self):\n",
    "        self.assertEqual(classifyTriangle(9, 9, 19), \"It is not a Triangle\")\n",
    "    "
   ]
  },
  {
   "cell_type": "code",
   "execution_count": 25,
   "metadata": {},
   "outputs": [
    {
     "name": "stderr",
     "output_type": "stream",
     "text": [
      "...............\n",
      "----------------------------------------------------------------------\n",
      "Ran 15 tests in 0.007s\n",
      "\n",
      "OK\n"
     ]
    }
   ],
   "source": [
    "if __name__ == '__main__':\n",
    "    unittest.main(argv=[''], exit=False)"
   ]
  },
  {
   "cell_type": "code",
   "execution_count": null,
   "metadata": {},
   "outputs": [],
   "source": []
  }
 ],
 "metadata": {
  "kernelspec": {
   "display_name": "Python 3",
   "language": "python",
   "name": "python3"
  },
  "language_info": {
   "codemirror_mode": {
    "name": "ipython",
    "version": 3
   },
   "file_extension": ".py",
   "mimetype": "text/x-python",
   "name": "python",
   "nbconvert_exporter": "python",
   "pygments_lexer": "ipython3",
   "version": "3.6.7"
  }
 },
 "nbformat": 4,
 "nbformat_minor": 2
}
